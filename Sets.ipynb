{
 "cells": [
  {
   "cell_type": "code",
   "execution_count": 1,
   "id": "1e5ccf5e",
   "metadata": {},
   "outputs": [
    {
     "name": "stdout",
     "output_type": "stream",
     "text": [
      "{1, 2, 3, 4, 5, 6, 7}\n",
      "{1, 2, 3, 4, 5, 6, 7, 8}\n"
     ]
    }
   ],
   "source": [
    "st={1,2,3,4,5,6,7}\n",
    "st1={1,1,2,2,3,3,4,4,5,5,6,6,7,7,8,8}\n",
    "print(st)\n",
    "print(st1)\n"
   ]
  },
  {
   "cell_type": "code",
   "execution_count": 2,
   "id": "13556443",
   "metadata": {},
   "outputs": [
    {
     "name": "stdout",
     "output_type": "stream",
     "text": [
      "{8, 2, 4, 6} {1, 3, 5, 7}\n"
     ]
    }
   ],
   "source": [
    "st1, st2= {2,4,6,8}, {1,3,5,7}\n",
    "print(st1, st2)"
   ]
  },
  {
   "cell_type": "code",
   "execution_count": 3,
   "id": "fe64e8c2",
   "metadata": {},
   "outputs": [
    {
     "name": "stdout",
     "output_type": "stream",
     "text": [
      "{2, 4, 6, 8, 10}\n",
      "{2, 4, 6, 10}\n",
      "{1, 3, 5, 7}\n",
      "{1, 2, 3, 4, 5, 6, 7, 10}\n",
      "{1, 2, 3, 4, 5, 6, 7, 10}\n"
     ]
    }
   ],
   "source": [
    "#methods in sets\n",
    "#the discard() method removes the specified iem from the set\n",
    "#this method is different from the remove() method, because the remove method will raise an error if irem doesnot exist and discard() method will not\n",
    "st1, st2= {2,4,6,8}, {1,3,5,7}\n",
    "st1.add(10)\n",
    "print(st1)\n",
    "st1.remove(8)\n",
    "print(st1)\n",
    "st2.discard(8)\n",
    "print(st2)\n",
    "st1.update(st2)\n",
    "print(st1)\n",
    "st1.clear\n",
    "print(st1)"
   ]
  },
  {
   "cell_type": "code",
   "execution_count": 12,
   "id": "4b0cbe42",
   "metadata": {},
   "outputs": [
    {
     "name": "stdout",
     "output_type": "stream",
     "text": [
      "{1, 2, 3, 4, 5, 6, 7, 8, 9, 10, 12}\n",
      "{2, 4, 6, 8, 10}\n",
      "{1, 3, 5, 7, 9}\n",
      "{12}\n",
      "{1, 3, 5, 7, 9, 12}\n",
      "{1, 3, 5, 7, 9, 12}\n"
     ]
    }
   ],
   "source": [
    "# union = \\\n",
    "#intersection = &\n",
    "# difference = -\n",
    "#symatric difference = ^\n",
    "set1, set2= {1,2,3,4,5,6,7,8,9,10}, {2,4,6,8,10,12}\n",
    "union=set1 | set2\n",
    "print(union)\n",
    "intersection= set1 & set2\n",
    "print(intersection)\n",
    "diff = set1 - set2\n",
    "diff1 = set2 - set1\n",
    "print(diff)\n",
    "print(diff1)\n",
    "symm= set1 ^ set2\n",
    "symm2= set2 ^ set1\n",
    "print(symm)\n",
    "print(symm2)"
   ]
  },
  {
   "cell_type": "code",
   "execution_count": null,
   "id": "802ad9e3",
   "metadata": {},
   "outputs": [],
   "source": []
  }
 ],
 "metadata": {
  "kernelspec": {
   "display_name": "Python 3 (ipykernel)",
   "language": "python",
   "name": "python3"
  },
  "language_info": {
   "codemirror_mode": {
    "name": "ipython",
    "version": 3
   },
   "file_extension": ".py",
   "mimetype": "text/x-python",
   "name": "python",
   "nbconvert_exporter": "python",
   "pygments_lexer": "ipython3",
   "version": "3.8.9"
  }
 },
 "nbformat": 4,
 "nbformat_minor": 5
}
